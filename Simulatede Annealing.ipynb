{
 "cells": [
  {
   "cell_type": "code",
   "execution_count": 1,
   "metadata": {},
   "outputs": [],
   "source": [
    "import random\n",
    "import math\n",
    "from datetime import datetime"
   ]
  },
  {
   "cell_type": "markdown",
   "metadata": {},
   "source": [
    "### Clase Ciudad"
   ]
  },
  {
   "cell_type": "code",
   "execution_count": 2,
   "metadata": {},
   "outputs": [],
   "source": [
    "class Ciudad:\n",
    "    def __init__(self, lon, lat, name):\n",
    "        self.lon = lon\n",
    "        self.lat = lat\n",
    "        self.name = name\n",
    "\n",
    "    def distancia(self, ciudad):\n",
    "        distanciaX = (ciudad.lon - self.lon) * 40000 * math.cos((self.lat + ciudad.lat) * math.pi / 360) / 360\n",
    "        distanciaY = (self.lat - ciudad.lat) * 40000 / 360\n",
    "        distancia = math.sqrt((distanciaX * distanciaX) + (distanciaY * distanciaY))\n",
    "        return distancia\n",
    "\n",
    "    def get_nombre_ciudad(ciudad):\n",
    "        return ciudad.name\n"
   ]
  },
  {
   "cell_type": "markdown",
   "metadata": {},
   "source": [
    "### Clase administrción de tour"
   ]
  },
  {
   "cell_type": "code",
   "execution_count": 3,
   "metadata": {},
   "outputs": [],
   "source": [
    "class TourAdmin:\n",
    "    destino_ciudades = []\n",
    "\n",
    "    def add_city(self, ciudad):\n",
    "        self.destino_ciudades.append(ciudad)\n",
    "\n",
    "    def get_city(self, index):\n",
    "        return self.destino_ciudades[index]\n",
    "\n",
    "    def numero_de_ciudades(self):\n",
    "        return len(self.destino_ciudades)\n",
    "\n"
   ]
  },
  {
   "cell_type": "markdown",
   "metadata": {},
   "source": [
    "### clase tour"
   ]
  },
  {
   "cell_type": "code",
   "execution_count": 4,
   "metadata": {},
   "outputs": [],
   "source": [
    "class Tour:\n",
    "    def __init__(self, tour_admin, tour=None):\n",
    "        self.tour_admin = tour_admin\n",
    "        self.tour = []\n",
    "        self.distancia = 0\n",
    "        if tour is not None:\n",
    "            self.tour = list(tour)\n",
    "        else:\n",
    "            for i in range(0, self.tour_admin.numero_de_ciudades()):\n",
    "                self.tour.append(None)\n",
    "\n",
    "    def __getitem__(self, index):\n",
    "        return self.tour[index]\n",
    "\n",
    "    def generar_tour(self):\n",
    "        for indice_ciudad in range(0, self.tour_admin.numero_de_ciudades()):\n",
    "            self.set_city(indice_ciudad, self.tour_admin.get_city(indice_ciudad))\n",
    "        #random.shuffle(self.tour)\n",
    "\n",
    "    def get_city(self, tour_position):\n",
    "        return self.tour[tour_position]\n",
    "\n",
    "    def set_city(self, tour_position, ciudad):\n",
    "        self.tour[tour_position] = ciudad\n",
    "        self.distancia = 0\n",
    "\n",
    "    def get_distancia(self):\n",
    "        if self.distancia == 0:\n",
    "            tour_distancia = 0\n",
    "            for indice_ciudad in range(0, self.tour_tam()):\n",
    "                ciudad_inicio = self.get_city(indice_ciudad)\n",
    "                if indice_ciudad + 1 < self.tour_tam():\n",
    "                    ciudad_llegada = self.get_city(indice_ciudad + 1)\n",
    "                else:\n",
    "                    ciudad_llegada = self.get_city(0)\n",
    "                tour_distancia += ciudad_inicio.distancia(ciudad_llegada)\n",
    "            self.distancia = tour_distancia\n",
    "\n",
    "        return self.distancia\n",
    "\n",
    "    def tour_tam(self):\n",
    "        return len(self.tour)\n",
    "\n",
    "    def mostrar(self):\n",
    "        for i in range(0, self.tour_tam()):\n",
    "            print(Ciudad.get_nombre_ciudad(self.get_city(i)))\n"
   ]
  },
  {
   "cell_type": "markdown",
   "metadata": {},
   "source": [
    "### Simulated Annealing"
   ]
  },
  {
   "cell_type": "code",
   "execution_count": 5,
   "metadata": {},
   "outputs": [],
   "source": [
    "class SimulatedAnnealing:\n",
    "    def __init__(self, destinos, temperatura_inicial, velocidad_enfriamiento):\n",
    "        self.tour_admin = destinos\n",
    "        self.tour = Tour(destinos)\n",
    "        self.tour.generar_tour()\n",
    "        self.el_mejor = self.tour\n",
    "        self.temperatura = temperatura_inicial\n",
    "        self.velocidad_enfriamiento = velocidad_enfriamiento\n",
    "        self.cont =0\n",
    "\n",
    "    def funcion_aceptacion(self, delta_energia):\n",
    "        if delta_energia < 0:\n",
    "            return True\n",
    "        elif random.random() <= math.exp(-(delta_energia / self.temperatura)):\n",
    "            return True\n",
    "        return False\n",
    "\n",
    "    def nuevo_tour(self):\n",
    "        tour_nuevo = Tour(self.tour_admin, self.tour)\n",
    "\n",
    "        pos1 = random.randrange(self.tour.tour_tam())\n",
    "        pos2 = random.randrange(self.tour.tour_tam())\n",
    "        ciudad1 = tour_nuevo.get_city(pos1)\n",
    "        ciudad2 = tour_nuevo.get_city(pos2)\n",
    "        tour_nuevo.set_city(pos2, ciudad1)\n",
    "        tour_nuevo.set_city(pos1, ciudad2)\n",
    "\n",
    "        actual_energia = self.tour.get_distancia()\n",
    "        nueva_energia = tour_nuevo.get_distancia()\n",
    "        delta = nueva_energia - actual_energia\n",
    "\n",
    "        if self.funcion_aceptacion(delta):\n",
    "            self.tour = tour_nuevo\n",
    "\n",
    "        if tour_nuevo.get_distancia() < self.el_mejor.get_distancia():\n",
    "            self.el_mejor = tour_nuevo\n",
    "            print(tour_nuevo.get_distancia())\n",
    "\n",
    "    def run(self):\n",
    "        while self.temperatura > 1:\n",
    "            self.cont = self.cont+1\n",
    "            self.nuevo_tour()\n",
    "            self.temperatura *= 1 - self.velocidad_enfriamiento\n",
    "\n",
    "\n",
    "        "
   ]
  },
  {
   "cell_type": "markdown",
   "metadata": {},
   "source": [
    "### Función de integración"
   ]
  },
  {
   "cell_type": "code",
   "execution_count": 6,
   "metadata": {},
   "outputs": [
    {
     "name": "stdout",
     "output_type": "stream",
     "text": [
      "Lima\n",
      "Brasil\n",
      "Bolivia\n",
      "Paraguay\n",
      "Chile\n",
      "None\n",
      "8333.142228127927\n",
      "7816.257618649164\n",
      "7816.257618649163\n",
      "Paraguay\n",
      "Brasil\n",
      "Bolivia\n",
      "Lima\n",
      "Chile\n",
      "None\n",
      "7816.257618649164\n",
      "3066\n"
     ]
    }
   ],
   "source": [
    "    destinos = TourAdmin()\n",
    "    ciudad1 = Ciudad(-77.0282400, -12.0431800, 'Lima')\n",
    "    destinos.add_city(ciudad1)\n",
    "\n",
    "    ciudad2 = Ciudad(-55.0000000, -10.0000000, 'Brasil')\n",
    "    destinos.add_city(ciudad2)\n",
    "    ciudad3 = Ciudad(-65.0000000, -17.0000000, 'Bolivia')\n",
    "    destinos.add_city(ciudad3)\n",
    "    ciudad4 = Ciudad(-58.0000000, -23.0000000, 'Paraguay')\n",
    "    destinos.add_city(ciudad4)\n",
    "    ciudad5 = Ciudad(-71.0000000, -30.0000000, 'Chile')\n",
    "    destinos.add_city(ciudad5)\n",
    "\n",
    "    sa = SimulatedAnnealing(destinos, temperatura_inicial=10000, velocidad_enfriamiento=0.003)\n",
    "    print(sa.tour.mostrar())\n",
    "    print(sa.tour.get_distancia())\n",
    "    sa.run()\n",
    "\n",
    "    print(sa.tour.mostrar())\n",
    "    print(sa.tour.get_distancia())\n",
    "    print(sa.cont)\n"
   ]
  },
  {
   "cell_type": "code",
   "execution_count": null,
   "metadata": {},
   "outputs": [],
   "source": []
  }
 ],
 "metadata": {
  "kernelspec": {
   "display_name": "Python 3",
   "language": "python",
   "name": "python3"
  },
  "language_info": {
   "codemirror_mode": {
    "name": "ipython",
    "version": 3
   },
   "file_extension": ".py",
   "mimetype": "text/x-python",
   "name": "python",
   "nbconvert_exporter": "python",
   "pygments_lexer": "ipython3",
   "version": "3.7.3"
  }
 },
 "nbformat": 4,
 "nbformat_minor": 4
}
